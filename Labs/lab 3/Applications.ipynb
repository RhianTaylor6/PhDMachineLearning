{
 "cells": [
  {
   "cell_type": "code",
   "execution_count": 16,
   "metadata": {},
   "outputs": [],
   "source": [
    "import numpy as np\n",
    "import pandas as pd\n",
    "import matplotlib.pyplot as plt\n",
    "from sklearn.neighbors import KNeighborsClassifier\n",
    "from sklearn.svm import SVC\n",
    "from sklearn.svm import SVR\n",
    "from sklearn.model_selection import cross_val_score # For cross validation\n",
    "from sklearn.model_selection import GridSearchCV # For searching over possible values of hyperparameters"
   ]
  },
  {
   "cell_type": "markdown",
   "metadata": {},
   "source": [
    "# Kannada handwritten digit recognition\n",
    "\n",
    "Today we will be using a dataset produced to provide training and test data for the task of recognising handwritten digits in the Kannada script. Kannada is a language spoken in South-western India, and is used by around 56 million people. Numerals are written in the Kannada script rather than Arabic numerals.\n",
    "\n",
    " - Training data was created by 65 volunteers from Bangalore, handwriting the digits 0 to 9 and were then digitised.\n",
    " - The data consists of 28 by 28 pixel greyscale images, with labels.\n",
    " \n",
    "The dataset is similar to an existing dataset for Arabic numerals known as MNIST. The data are available [here](https://github.com/vinayprabhu/Kannada_MNIST) (but please use the version on BB for today!), and there is an academic paper about the dataset [here](https://arxiv.org/abs/1908.01242)."
   ]
  },
  {
   "cell_type": "markdown",
   "metadata": {},
   "source": [
    "The data are stored in binary numpy format so that they can loaded directly into numpy arrays. To load them use np.load and read in the X and y training and test data."
   ]
  },
  {
   "cell_type": "code",
   "execution_count": 2,
   "metadata": {},
   "outputs": [],
   "source": [
    "train_x = np.load(\"Kannada_X_train.npy\")\n",
    "train_y = np.load(\"Kannada_y_train.npy\")\n",
    "test_x = np.load(\"Kannada_X_test.npy\")\n",
    "test_y = np.load(\"Kannada_y_test.npy\")"
   ]
  },
  {
   "cell_type": "markdown",
   "metadata": {},
   "source": [
    "Use the shape attribute to examine the size of the arrays. You should see they are three dimensional, which means they will have three indices."
   ]
  },
  {
   "cell_type": "code",
   "execution_count": 11,
   "metadata": {},
   "outputs": [
    {
     "data": {
      "text/plain": [
       "(500,)"
      ]
     },
     "execution_count": 11,
     "metadata": {},
     "output_type": "execute_result"
    }
   ],
   "source": [
    "test_y.shape"
   ]
  },
  {
   "cell_type": "markdown",
   "metadata": {},
   "source": [
    "To feed the data into our classifiers, we need to turn the images into one dimensional feature vectors. This can be done using the reshape method of the array. Use it to reshape the X training and test arrays to have dimension 1000x784 and 500x784. You will need to assign the result to a new variable.\n",
    "\n",
    "```python\n",
    "X_train_reshape = X_train.reshape(1000,784)\n",
    "```"
   ]
  },
  {
   "cell_type": "code",
   "execution_count": 12,
   "metadata": {},
   "outputs": [],
   "source": [
    "X_train_reshape = train_x.reshape(1000,784)\n",
    "X_test_reshape = test_x.reshape(500,784)\n"
   ]
  },
  {
   "cell_type": "markdown",
   "metadata": {},
   "source": [
    "Using the KNeighborsClassifier model from scikit-learn, train and test the model on the data. You should use cross-validation on the training data to select the number of neighbours to use. Try a range of neighbours between 1 and 10."
   ]
  },
  {
   "cell_type": "code",
   "execution_count": 23,
   "metadata": {},
   "outputs": [
    {
     "data": {
      "text/plain": [
       "array([0.96, 0.95, 0.98, 1.  , 0.98, 1.  , 0.99, 0.98, 0.91, 0.97])"
      ]
     },
     "execution_count": 23,
     "metadata": {},
     "output_type": "execute_result"
    }
   ],
   "source": [
    "KNN = KNeighborsClassifier(n_neighbors=6)\n",
    "KNN.fit(X_train_reshape,train_y)\n",
    "KNN.score(X_test_reshape, test_y)\n",
    "\n",
    "cross_val_score(KNN,X_train_reshape,train_y,cv=10)\n"
   ]
  },
  {
   "cell_type": "markdown",
   "metadata": {},
   "source": [
    "We can use the kneighbors method of a model that has been trained to find the K nearest neighbours of an input image. It returns an array of the distances, followed by an array of the indices of the nearest neighbours. Try using your model to predict y and find an image that is predicted incorrectly. Plot this image, then see if you can plot the images of the K nearest neighbours.\n",
    "\n",
    "*You may need to use something like:*\n",
    "\n",
    "```python\n",
    "knn_model.kneighbors(X_reshaped[[1],:])\n",
    "```\n",
    "\n",
    "*as the model expects the X input to be a two dimensional array, where features are on columns, and data points on rows, even when there is only one feature or one data point. Using indexing as X_reshaped[1,:] will drop the first axis and return a one dimensional array, and cause an error. By placing the index in a list keeps that axis in the returned array.*"
   ]
  },
  {
   "cell_type": "code",
   "execution_count": 39,
   "metadata": {},
   "outputs": [
    {
     "data": {
      "text/plain": [
       "array([0, 0, 0, 3, 4, 3, 6, 4, 8, 9, 0, 1, 2, 3, 4, 3, 3, 3, 0, 9, 0, 1,\n",
       "       2, 3, 4, 5, 6, 3, 8, 9, 3, 1, 2, 3, 4, 4, 6, 3, 0, 9, 3, 1, 2, 3,\n",
       "       4, 3, 6, 3, 8, 9, 1, 1, 2, 3, 4, 5, 6, 3, 8, 9, 0, 1, 2, 3, 4, 3,\n",
       "       6, 3, 8, 3, 0, 1, 2, 3, 3, 4, 6, 4, 8, 3, 0, 3, 2, 3, 4, 4, 6, 9,\n",
       "       8, 9, 1, 1, 2, 3, 4, 5, 5, 9, 8, 9, 0, 1, 2, 3, 4, 4, 3, 3, 8, 9,\n",
       "       8, 1, 2, 3, 4, 3, 6, 3, 8, 9, 0, 3, 2, 3, 4, 4, 3, 3, 8, 9, 3, 1,\n",
       "       2, 3, 4, 4, 3, 4, 8, 9, 0, 0, 2, 3, 4, 4, 6, 9, 8, 9, 0, 1, 2, 3,\n",
       "       4, 3, 6, 3, 8, 3, 0, 1, 2, 3, 4, 4, 6, 3, 8, 9, 0, 1, 2, 3, 4, 4,\n",
       "       3, 4, 8, 9, 0, 1, 2, 3, 4, 3, 3, 4, 8, 3, 8, 1, 2, 3, 4, 3, 6, 3,\n",
       "       8, 9, 0, 1, 2, 3, 4, 4, 6, 6, 8, 9, 0, 0, 2, 3, 4, 4, 3, 4, 8, 9,\n",
       "       0, 1, 3, 3, 4, 4, 6, 3, 8, 9, 0, 1, 2, 3, 4, 3, 3, 3, 8, 9, 1, 3,\n",
       "       2, 3, 4, 4, 5, 4, 8, 9, 0, 1, 2, 3, 4, 4, 3, 3, 0, 9, 0, 1, 5, 3,\n",
       "       4, 3, 3, 4, 8, 9, 0, 1, 2, 3, 4, 3, 3, 3, 8, 9, 0, 3, 2, 3, 4, 3,\n",
       "       2, 4, 8, 9, 0, 1, 2, 3, 4, 4, 6, 4, 0, 9, 0, 1, 3, 3, 4, 4, 3, 3,\n",
       "       8, 9, 0, 1, 2, 3, 4, 4, 6, 4, 8, 9, 0, 1, 2, 3, 4, 4, 5, 9, 8, 9,\n",
       "       1, 1, 3, 3, 4, 3, 3, 3, 8, 9, 0, 1, 3, 3, 4, 4, 3, 4, 0, 9, 0, 1,\n",
       "       3, 3, 4, 3, 6, 4, 0, 9, 0, 1, 2, 3, 4, 4, 3, 4, 8, 9, 0, 1, 2, 3,\n",
       "       4, 4, 3, 3, 8, 9, 0, 1, 2, 3, 4, 4, 3, 3, 8, 9, 0, 1, 2, 3, 4, 4,\n",
       "       3, 4, 1, 9, 0, 1, 2, 3, 4, 4, 3, 4, 0, 9, 0, 1, 2, 3, 4, 4, 3, 4,\n",
       "       0, 9, 0, 1, 3, 3, 4, 4, 3, 3, 8, 9, 3, 1, 2, 3, 4, 4, 3, 3, 8, 9,\n",
       "       9, 1, 2, 3, 4, 3, 6, 4, 1, 9, 0, 1, 2, 3, 4, 3, 3, 3, 0, 9, 0, 1,\n",
       "       3, 3, 4, 3, 3, 4, 1, 9, 3, 1, 2, 3, 4, 3, 5, 3, 3, 9, 0, 1, 2, 3,\n",
       "       4, 4, 6, 4, 0, 9, 0, 3, 2, 3, 4, 3, 3, 4, 8, 9], dtype=uint8)"
      ]
     },
     "execution_count": 39,
     "metadata": {},
     "output_type": "execute_result"
    }
   ],
   "source": [
    "#KNN.kneighbors(X_train_reshape[[1],:])\n",
    "KNN.predict(X_test_reshape)"
   ]
  },
  {
   "cell_type": "code",
   "execution_count": 34,
   "metadata": {},
   "outputs": [
    {
     "data": {
      "text/plain": [
       "(array([[1353.62217771, 1493.72219639, 1530.16731111, 1535.43739697,\n",
       "         1543.90640908, 1575.41169223]]),\n",
       " array([[741,  61,   1,  30, 350,  80]]))"
      ]
     },
     "execution_count": 34,
     "metadata": {},
     "output_type": "execute_result"
    }
   ],
   "source": [
    "KNN.kneighbors(X_test_reshape[[1],:])"
   ]
  },
  {
   "cell_type": "code",
   "execution_count": 38,
   "metadata": {},
   "outputs": [
    {
     "data": {
      "text/plain": [
       "<matplotlib.image.AxesImage at 0x1a2197a110>"
      ]
     },
     "execution_count": 38,
     "metadata": {},
     "output_type": "execute_result"
    },
    {
     "data": {
      "image/png": "[encoded data removed]",
      "text/plain": [
       "<Figure size 432x288 with 1 Axes>"
      ]
     },
     "metadata": {
      "needs_background": "light"
     },
     "output_type": "display_data"
    }
   ],
   "source": [
    "plt.imshow(test_x[1,:,:],cmap=\"gray\")"
   ]
  },
  {
   "cell_type": "code",
   "execution_count": 41,
   "metadata": {},
   "outputs": [
    {
     "data": {
      "text/plain": [
       "<matplotlib.image.AxesImage at 0x1a21d2e090>"
      ]
     },
     "execution_count": 41,
     "metadata": {},
     "output_type": "execute_result"
    },
    {
     "data": {
      "image/png": "[encoded data removed]",
      "text/plain": [
       "<Figure size 432x288 with 1 Axes>"
      ]
     },
     "metadata": {
      "needs_background": "light"
     },
     "output_type": "display_data"
    }
   ],
   "source": [
    "plt.imshow(train_x[350,:,:],cmap=\"gray\")"
   ]
  },
  {
   "cell_type": "markdown",
   "metadata": {},
   "source": [
    "Now try using a support vector machine classifier with the scikit-learn SVC model. The default values for C and gamma (the RBF kernel parameter) will not perform well. Use a search over these parameters on the training data to find a good setting for the hyperparameters:\n",
    "\n",
    "```python\n",
    "grid = {\"C\":[1,10,100,1000],\"gamma\":[1e-12,1e-8,1e-4]}\n",
    "```"
   ]
  },
  {
   "cell_type": "code",
   "execution_count": 44,
   "metadata": {},
   "outputs": [
    {
     "data": {
      "text/plain": [
       "{'C': 10, 'gamma': 1e-08}"
      ]
     },
     "execution_count": 44,
     "metadata": {},
     "output_type": "execute_result"
    }
   ],
   "source": [
    "grid = {\"C\":[1,10,100,1000],\"gamma\":[1e-12,1e-8,1e-4]}\n",
    "SVM = SVC(gamma = 'auto')\n",
    "SVM.fit(X_train_reshape, train_y)\n",
    "SVM.score(X_test_reshape, test_y)\n",
    "model_cv = GridSearchCV(SVM,grid,cv=10,iid=False)\n",
    "model_cv.fit(X_train_reshape, train_y)\n",
    "model_cv.best_params_"
   ]
  },
  {
   "cell_type": "markdown",
   "metadata": {},
   "source": [
    "Finally, score your optimal SVM parameters on the test data."
   ]
  },
  {
   "cell_type": "code",
   "execution_count": 65,
   "metadata": {},
   "outputs": [
    {
     "data": {
      "text/plain": [
       "0.678"
      ]
     },
     "execution_count": 65,
     "metadata": {},
     "output_type": "execute_result"
    }
   ],
   "source": [
    "SVM = SVC(gamma = 1e-08, C = 10)\n",
    "SVM.fit(X_train_reshape, train_y)\n",
    "SVM.score(X_test_reshape, test_y)"
   ]
  },
  {
   "cell_type": "markdown",
   "metadata": {},
   "source": [
    "# SVM Regression for predicting sales\n",
    "\n",
    "We have data from a company giving figures for sales, along with the advertising budget for TV adverts. Load the data into a pandas dataframe using \n",
    "\n",
    "```python\n",
    "data = pd.read_csv(\"AdvertisingTV.csv\")\n",
    "```"
   ]
  },
  {
   "cell_type": "code",
   "execution_count": 45,
   "metadata": {},
   "outputs": [],
   "source": [
    "data = pd.read_csv(\"AdvertisingTV.csv\")"
   ]
  },
  {
   "cell_type": "markdown",
   "metadata": {},
   "source": [
    "Now try fitting an SVM regression model to the data using the scikit-learn SVR model. As a starting point try setting C=1000, gamma=1e-4 and epsilon=1 (epsilon is eta in the lecture slides).\n",
    "\n",
    "You can use X=data['TV'].values and y=data['sales'].values to extract the X and y values."
   ]
  },
  {
   "cell_type": "code",
   "execution_count": 67,
   "metadata": {},
   "outputs": [
    {
     "data": {
      "text/plain": [
       "SVR(C=1000, cache_size=200, coef0=0.0, degree=3, epsilon=1, gamma=0.0001,\n",
       "    kernel='rbf', max_iter=-1, shrinking=True, tol=0.001, verbose=False)"
      ]
     },
     "execution_count": 67,
     "metadata": {},
     "output_type": "execute_result"
    }
   ],
   "source": [
    "model = SVR(C=1000, gamma=1e-4, epsilon=1 )\n",
    "X=data['TV'].values\n",
    "y=data['sales'].values\n",
    "model.fit(X.reshape(-1, 1),y)\n"
   ]
  },
  {
   "cell_type": "markdown",
   "metadata": {},
   "source": [
    "See if you can plot the regression predictions as well as the support vectors on a plot, and see how this changes as you change the hyperparameters. To generate predictions of y for a range of x values you can use:\n",
    "\n",
    "```python\n",
    "xs = np.arange(1,300,1)\n",
    "ys = svr_model.predict(xs.reshape(-1, 1))\n",
    "```\n",
    "\n",
    "To plot the data points, regression line and support vectors (in red) you can then use:\n",
    "\n",
    "```python\n",
    "plt.scatter(X,y)\n",
    "plt.plot(xs,ys)\n",
    "plt.scatter(X[svr_model.support_],y[svr_model.support_],color=\"red\")\n",
    "```"
   ]
  },
  {
   "cell_type": "code",
   "execution_count": 69,
   "metadata": {},
   "outputs": [
    {
     "data": {
      "text/plain": [
       "<matplotlib.collections.PathCollection at 0x1a23feb810>"
      ]
     },
     "execution_count": 69,
     "metadata": {},
     "output_type": "execute_result"
    },
    {
     "data": {
      "image/png": "[encoded data removed]",
      "text/plain": [
       "<Figure size 432x288 with 1 Axes>"
      ]
     },
     "metadata": {
      "needs_background": "light"
     },
     "output_type": "display_data"
    }
   ],
   "source": [
    "xs = np.arange(1,300,1)\n",
    "ys = model.predict(xs.reshape(-1, 1))\n",
    "plt.scatter(X,y)\n",
    "plt.plot(xs,ys)\n",
    "plt.scatter(X[model.support_],y[model.support_],color=\"red\")"
   ]
  },
  {
   "cell_type": "code",
   "execution_count": null,
   "metadata": {},
   "outputs": [],
   "source": []
  }
 ],
 "metadata": {
  "kernelspec": {
   "display_name": "Python 3",
   "language": "python",
   "name": "python3"
  },
  "language_info": {
   "codemirror_mode": {
    "name": "ipython",
    "version": 3
   },
   "file_extension": ".py",
   "mimetype": "text/x-python",
   "name": "python",
   "nbconvert_exporter": "python",
   "pygments_lexer": "ipython3",
   "version": "3.7.4"
  }
 },
 "nbformat": 4,
 "nbformat_minor": 2
}
